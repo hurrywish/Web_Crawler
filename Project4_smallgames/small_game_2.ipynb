{
 "cells": [
  {
   "cell_type": "code",
   "execution_count": 2,
   "metadata": {},
   "outputs": [],
   "source": [
    "import numpy as np"
   ]
  },
  {
   "cell_type": "code",
   "execution_count": 3,
   "metadata": {},
   "outputs": [],
   "source": [
    "data=np.array(np.random.randint(0,100,100))"
   ]
  },
  {
   "cell_type": "code",
   "execution_count": 4,
   "metadata": {},
   "outputs": [
    {
     "data": {
      "text/plain": [
       "array([ 5, 13, 71, 61, 37, 20,  2, 75, 26,  0, 21,  3, 36, 82, 80, 70, 74,\n",
       "       47,  7, 42, 32, 16, 67, 84, 11, 93, 82, 35, 14, 62, 35, 55, 90, 63,\n",
       "       71, 22, 33, 84, 97, 75,  7, 46, 91, 65, 75, 46, 41,  9, 32, 83, 26,\n",
       "       68, 72, 60, 24,  1, 76, 48,  6, 31,  1, 46, 45, 60, 94, 65, 41, 55,\n",
       "       42, 92, 17, 37, 57, 32, 88, 49, 29, 65, 95, 85, 48, 70, 45, 75,  3,\n",
       "       55, 68, 65, 49, 72, 83, 38, 19,  8, 19, 34, 81, 14,  0,  7])"
      ]
     },
     "execution_count": 4,
     "metadata": {},
     "output_type": "execute_result"
    }
   ],
   "source": [
    "data"
   ]
  },
  {
   "cell_type": "code",
   "execution_count": 8,
   "metadata": {},
   "outputs": [],
   "source": [
    "for i in range(0,100):\n",
    "    for j in range(0,100):\n",
    "        if data[i]>data[j]:\n",
    "            a=data[i]\n",
    "            b=data[j]\n",
    "            data[i]=b\n",
    "            data[j]=a"
   ]
  },
  {
   "cell_type": "code",
   "execution_count": 9,
   "metadata": {},
   "outputs": [
    {
     "data": {
      "text/plain": [
       "array([97, 95, 94, 93, 92, 91, 90, 88, 85, 84, 84, 83, 83, 82, 82, 81, 80,\n",
       "       76, 75, 75, 75, 75, 74, 72, 72, 71, 71, 70, 70, 68, 68, 67, 65, 65,\n",
       "       65, 65, 63, 62, 61, 60, 60, 57, 55, 55, 55, 49, 49, 48, 48, 47, 46,\n",
       "       46, 46, 45, 45, 42, 42, 41, 41, 38, 37, 37, 36, 35, 35, 34, 33, 32,\n",
       "       32, 32, 31, 29, 26, 26, 24, 22, 21, 20, 19, 19, 17, 16, 14, 14, 13,\n",
       "       11,  9,  8,  7,  7,  7,  6,  5,  3,  3,  2,  1,  1,  0,  0])"
      ]
     },
     "execution_count": 9,
     "metadata": {},
     "output_type": "execute_result"
    }
   ],
   "source": [
    "data"
   ]
  },
  {
   "cell_type": "code",
   "execution_count": null,
   "metadata": {},
   "outputs": [],
   "source": []
  }
 ],
 "metadata": {
  "kernelspec": {
   "display_name": "Python 3",
   "language": "python",
   "name": "python3"
  },
  "language_info": {
   "codemirror_mode": {
    "name": "ipython",
    "version": 3
   },
   "file_extension": ".py",
   "mimetype": "text/x-python",
   "name": "python",
   "nbconvert_exporter": "python",
   "pygments_lexer": "ipython3",
   "version": "3.7.6"
  }
 },
 "nbformat": 4,
 "nbformat_minor": 4
}
